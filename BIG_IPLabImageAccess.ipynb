{
 "cells": [
  {
   "cell_type": "code",
   "execution_count": 1,
   "metadata": {
    "ExecuteTime": {
     "end_time": "2021-03-17T14:31:55.644318Z",
     "start_time": "2021-03-17T14:31:49.514Z"
    },
    "kernel": "SoS"
   },
   "outputs": [],
   "source": [
    "%use sos\n",
    "# Configure plotting as dynamic\n",
    "%matplotlib widget\n",
    "\n",
    "# Import standard required packages for this exercise\n",
    "import matplotlib.pyplot as plt\n",
    "import ipywidgets as widgets\n",
    "import numpy as np\n",
    "\n",
    "import cv2 as cv\n",
    "\n",
    "# Import IPLabsImage() Class\n",
    "import sys  \n",
    "from iplabs import IPLabViewer as viewer\n",
    "\n",
    "# Load images to be used in this lab \n",
    "plate        = cv.imread('images/plate.tif',               cv.IMREAD_UNCHANGED)"
   ]
  },
  {
   "cell_type": "code",
   "execution_count": 2,
   "metadata": {
    "ExecuteTime": {
     "end_time": "2021-03-17T14:31:56.476339Z",
     "start_time": "2021-03-17T14:31:49.630Z"
    },
    "kernel": "JavaScript"
   },
   "outputs": [],
   "source": [
    "%use javascript\n",
    "// import IPLabImageAccess.js as Image\n",
    "var Image = require('./IPLabImageAccess.js')"
   ]
  },
  {
   "cell_type": "code",
   "execution_count": 30,
   "metadata": {
    "kernel": "JavaScript"
   },
   "outputs": [
    {
     "name": "stdout",
     "output_type": "stream",
     "text": [
      "[ <10 empty items> ]\n"
     ]
    },
    {
     "data": {
      "text/plain": [
       "IPLabImageAccess {\n",
       "  image: [ [\n",
       "      0, 1, 2, 3, 4,\n",
       "      5, 6, 7, 8, 9\n",
       "    ] ],\n",
       "  nx: 10,\n",
       "  ny: 1,\n",
       "  min: 0,\n",
       "  max: 9,\n",
       "  change_check: false\n",
       "}"
      ]
     },
     "execution_count": 30,
     "metadata": {},
     "output_type": "execute_result"
    }
   ],
   "source": [
    "var a = new Array(10);\n",
    "console.log(a)\n",
    "for(var i=0; i<10; i++){\n",
    "    a[i] = i;\n",
    "}\n",
    "\n",
    "var b = [a]\n",
    "var i = new Image(b)\n",
    "i"
   ]
  },
  {
   "cell_type": "code",
   "execution_count": 9,
   "metadata": {
    "kernel": "JavaScript"
   },
   "outputs": [
    {
     "name": "stdout",
     "output_type": "stream",
     "text": [
      "[[  0  1  2  3  4 ]\n",
      " [  5  6  7  8  9 ]\n",
      " [ 10 11 12 13 14 ]\n",
      " [ 15 16 17 18 19 ]\n",
      " [ 20 21 22 23 24 ]]\n",
      "\n",
      "[[ 12 11 10 10 11 12 13 14 14 13 12 ]\n",
      " [  7  6  5  5  6  7  8  9  9  8  7 ]\n",
      " [  2  1  0  0  1  2  3  4  4  3  2 ]\n",
      " [  2  1  0  0  1  2  3  4  4  3  2 ]\n",
      " [  7  6  5  5  6  7  8  9  9  8  7 ]\n",
      " [ 12 11 10 10 11 12 13 14 14 13 12 ]\n",
      " [ 17 16 15 15 16 17 18 19 19 18 17 ]\n",
      " [ 22 21 20 20 21 22 23 24 24 23 22 ]\n",
      " [ 22 21 20 20 21 22 23 24 24 23 22 ]\n",
      " [ 17 16 15 15 16 17 18 19 19 18 17 ]\n",
      " [ 12 11 10 10 11 12 13 14 14 13 12 ]]\n",
      "\n",
      "[[ 12 11 10 10 11 12 13 14 14 13 12 ]\n",
      " [  7  6  5  5  6  7  8  9  9  8  7 ]\n",
      " [  2  1  0  0  1  2  3  4  4  3  2 ]\n",
      " [  2  1  0  0  1  2  3  4  4  3  2 ]\n",
      " [  7  6  5  5  6  7  8  9  9  8  7 ]\n",
      " [ 12 11 10 10 11 12 13 14 14 13 12 ]\n",
      " [ 17 16 15 15 16 17 18 19 19 18 17 ]\n",
      " [ 22 21 20 20 21 22 23 24 24 23 22 ]\n",
      " [ 22 21 20 20 21 22 23 24 24 23 22 ]\n",
      " [ 17 16 15 15 16 17 18 19 19 18 17 ]\n",
      " [ 12 11 10 10 11 12 13 14 14 13 12 ]]\n",
      "\n"
     ]
    }
   ],
   "source": [
    "var t = new Image(5, 5);\n",
    "for(var i=0; i<t.nx; i++){\n",
    "    for(var j=0; j<t.ny; j++){\n",
    "        t.setPixel(i, j, j*t.ny+i)\n",
    "    }\n",
    "}\n",
    "console.log(t.visualize())\n",
    "var nbh = t.getNbh(2, 2, 11, 11);\n",
    "var vis = new Image(nbh.ny, nbh.nx);\n",
    "for(var i=0; i<nbh.nx; i++){\n",
    "    for(var j=0; j<nbh.ny; j++){\n",
    "        vis.setPixel(i, j, nbh.getPixel(i, j))\n",
    "    }\n",
    "}\n",
    "console.log(vis.visualize())\n",
    "console.log(nbh.visualize())"
   ]
  },
  {
   "cell_type": "code",
   "execution_count": 4,
   "metadata": {
    "ExecuteTime": {
     "end_time": "2021-03-17T14:32:16.568927Z",
     "start_time": "2021-03-17T14:32:16.523Z"
    },
    "kernel": "JavaScript"
   },
   "outputs": [],
   "source": [
    "function erode(img, b){ \n",
    "    var output = new Image(img.shape());\n",
    "    // loop through every pixel of the image\n",
    "    for(var x = 0; x < img.nx; x++){\n",
    "        for(var y = 0; y < img.ny; y++){\n",
    "            // extract the neighbourhood around pixel (x,y)\n",
    "            var nbh = img.getNbh(x, y, b.nx, b.ny);\n",
    "            var valmin = Number.MAX_VALUE;\n",
    "            // loop through every pixel of the neighbourhood\n",
    "            for(var k = 0; k < b.ny; k++){\n",
    "                for(var l = 0; l < b.nx; l++){\n",
    "                    if (b.getPixel(l, k)){\n",
    "                        // perform erosion (calculate new minimum value)\n",
    "                        valmin = Math.min(nbh.getPixel(l, k), valmin);\n",
    "                    }\n",
    "                }\n",
    "            }            \n",
    "            // Set the eroded pixel value in the output image\n",
    "            output.setPixel(x, y, valmin);\n",
    "        }\n",
    "    }\n",
    "    return output;\n",
    "}"
   ]
  },
  {
   "cell_type": "code",
   "execution_count": 5,
   "metadata": {
    "ExecuteTime": {
     "end_time": "2021-03-17T14:32:37.319992Z",
     "start_time": "2021-03-17T14:32:37.269Z"
    },
    "kernel": "JavaScript"
   },
   "outputs": [],
   "source": [
    "function erode_raw(img, b){\n",
    "    // initialize the output array with the first dimension\n",
    "    var output = new Array(img.length);\n",
    "    // for every element of the first dimension, add the second dimension\n",
    "    for(var i=0; i < output.length; i++){\n",
    "        // create the second dimension\n",
    "        output[i] = new Array(img[i].length);\n",
    "        for(var j=0; j < output[i].length; j++){\n",
    "            // initialize output value to 0\n",
    "            output[i][j] = 0;\n",
    "        }\n",
    "    }\n",
    "    // loop through every pixel of the image\n",
    "    for(var y = 0; y < img.length; y++){\n",
    "        for(var x = 0; x < img[y].length; x++){\n",
    "            var valmin = Number.MAX_VALUE;\n",
    "            // loop through every pixel of the neighbourhood\n",
    "            for(var k = 0; k < b.length; k++){\n",
    "                for(var l = 0; l < b[k].length; l++){\n",
    "                    if (b[k][l]){\n",
    "                        var y_ = y - parseInt(b.length/2) + k;\n",
    "                        var x_ = x - parseInt(b[k].length/2) + l;\n",
    "                        // Apply boundary conditions\n",
    "                        if(y_ < 0){\n",
    "                            // apply mirror folding\n",
    "                            y_ = -y_ - 1;\n",
    "                        }\n",
    "                        if(y_ >= img.length){\n",
    "                            // apply mirror folding\n",
    "                            y_ = img.length - 1 - (y_ % img.length);\n",
    "                        }\n",
    "                        if(x_ < 0){\n",
    "                            // apply mirror folding\n",
    "                            x_ = -x_ - 1;\n",
    "                        }if(x_ >= img[y].length){\n",
    "                            // apply mirror folding\n",
    "                            x_ = img[y].length - 1 - (x_ % img[y].length);\n",
    "                        }\n",
    "                        // perform erosion (calculate new minimum value)\n",
    "                        valmin = Math.min(img[y_][x_], valmin);\n",
    "                    }\n",
    "                }\n",
    "            }\n",
    "            // Set the eroded pixel value in the output image\n",
    "            output[y][x] = valmin;\n",
    "        }\n",
    "    }\n",
    "    return output;\n",
    "}"
   ]
  },
  {
   "cell_type": "code",
   "execution_count": 6,
   "metadata": {
    "ExecuteTime": {
     "end_time": "2021-03-17T16:08:36.797402Z",
     "start_time": "2021-03-17T16:08:35.268Z"
    },
    "kernel": "JavaScript"
   },
   "outputs": [
    {
     "data": {
      "text/plain": [
       "12"
      ]
     },
     "execution_count": 6,
     "metadata": {},
     "output_type": "execute_result"
    }
   ],
   "source": [
    "%use javascript\n",
    "%get plate\n",
    "%put t_raw t_normal ns\n",
    "\n",
    "var ns = [3, 5, 7, 9, 11, 13, 15, 17, 19, 21, 23, 25];\n",
    "var t_normal = [];\n",
    "var t_raw = [];\n",
    "\n",
    "for(var i=0; i<ns.length; i++){\n",
    "    var t_n = 0;\n",
    "    var t_i = 0;\n",
    "    var t_r = 0;\n",
    "    for(var k=0; k<3; k++){\n",
    "        var n = ns[i]\n",
    "        var b_square = new Image(n, n, {'init_value':1});\n",
    "        var start = new Date();\n",
    "        var plate_eroded = erode(new Image(plate), b_square).toArray();\n",
    "        var t1 = new Date();\n",
    "        var plate_eroded_raw = erode_raw(plate, b_square.toArray());\n",
    "        var end = new Date();\n",
    "        t_n += (t1 - start)/3;\n",
    "        t_r += (end - t1)/3;\n",
    "    }\n",
    "    t_raw.push(t_r);\n",
    "    t_normal.push(t_n);\n",
    "}"
   ]
  },
  {
   "cell_type": "code",
   "execution_count": 12,
   "metadata": {
    "kernel": "SoS"
   },
   "outputs": [
    {
     "data": {
      "application/vnd.jupyter.widget-view+json": {
       "model_id": "0cacf49638fa45fc991264dd988370b2",
       "version_major": 2,
       "version_minor": 0
      },
      "text/plain": [
       "Canvas(toolbar=Toolbar(toolitems=[('Home', 'Reset original view', 'home', 'home'), ('Pan', 'Pan axes with left…"
      ]
     },
     "metadata": {},
     "output_type": "display_data"
    },
    {
     "data": {
      "application/vnd.jupyter.widget-view+json": {
       "model_id": "7afbab2a0d0a438b97cd4296acd43dff",
       "version_major": 2,
       "version_minor": 0
      },
      "text/plain": [
       "Canvas(toolbar=Toolbar(toolitems=[('Home', 'Reset original view', 'home', 'home'), ('Pan', 'Pan axes with left…"
      ]
     },
     "metadata": {},
     "output_type": "display_data"
    }
   ],
   "source": [
    "plt.close('all')\n",
    "plt.figure()\n",
    "plt.plot(ns, t_raw, label='raw')\n",
    "plt.plot(ns, t_normal, label='normal')\n",
    "plt.legend()\n",
    "plt.title('Runtime of different erode functions.')\n",
    "plt.xlabel('Kernel size')\n",
    "plt.ylabel('Runtime [ms]')\n",
    "plt.show()\n",
    "plt.figure()\n",
    "plt.plot(np.array(t_normal)/np.array(t_raw))\n",
    "plt.show()"
   ]
  },
  {
   "cell_type": "code",
   "execution_count": 13,
   "metadata": {
    "kernel": "JavaScript"
   },
   "outputs": [],
   "source": [
    "%use javascript\n",
    "%put plate_eroded plate_eroded_raw\n",
    "\n",
    "var n = 7\n",
    "var b_square = new Image(n, n, {'init_value':1});\n",
    "var plate_eroded = erode(new Image(plate), b_square).toArray();\n",
    "var plate_eroded_raw = erode_raw(plate, b_square.toArray());"
   ]
  },
  {
   "cell_type": "code",
   "execution_count": 14,
   "metadata": {
    "kernel": "SoS"
   },
   "outputs": [
    {
     "data": {
      "application/vnd.jupyter.widget-view+json": {
       "model_id": "7677ee97d5104cc3a176969f37caa04e",
       "version_major": 2,
       "version_minor": 0
      },
      "text/plain": [
       "HBox(children=(Output(layout=Layout(width='80%')), Output(), Output(layout=Layout(width='25%'))))"
      ]
     },
     "metadata": {},
     "output_type": "display_data"
    },
    {
     "data": {
      "application/vnd.jupyter.widget-view+json": {
       "model_id": "0479227d72b440caab09a86c612bab22",
       "version_major": 2,
       "version_minor": 0
      },
      "text/plain": [
       "Button(description='Show Widgets', style=ButtonStyle())"
      ]
     },
     "metadata": {},
     "output_type": "display_data"
    }
   ],
   "source": [
    "plt.close('all')\n",
    "view = viewer([np.array(plate_eroded), np.array(plate_eroded_raw)], subplots=(1,2))\n",
    "np.testing.assert_array_equal(plate_eroded, plate_eroded_raw)"
   ]
  },
  {
   "cell_type": "code",
   "execution_count": 70,
   "metadata": {
    "ExecuteTime": {
     "end_time": "2021-03-17T16:06:44.037640Z",
     "start_time": "2021-03-17T16:06:43.072Z"
    },
    "kernel": "JavaScript"
   },
   "outputs": [
    {
     "name": "stdout",
     "output_type": "stream",
     "text": [
      "328 560\n"
     ]
    }
   ],
   "source": [
    "var plate_img = new Image(plate);\n",
    "var a = 0;\n",
    "\n",
    "var start = new Date();\n",
    "for(var i=0; i<plate_img.nx; i++){\n",
    "    for(var j=0; j<plate_img.ny; j++){\n",
    "        a = plate_img.getNbh(i, j, 11, 11);\n",
    "        /*\n",
    "        // loop through every pixel of the neighbourhood\n",
    "        for(var k = 0; k < 11; k++){\n",
    "            for(var l = 0; l < 11; l++){\n",
    "                var y_ = i - parseInt(11/2) + k;\n",
    "                var x_ = j - parseInt(11/2) + l;\n",
    "                // Apply boundary conditions\n",
    "                if(y_ < 0){\n",
    "                    // apply mirror folding\n",
    "                    y_ = -y_ - 1;\n",
    "                }\n",
    "                if(y_ >= plate.ny){\n",
    "                    // apply mirror folding\n",
    "                    y_ = plate.ny - 1 - (y_ % plate.ny);\n",
    "                }\n",
    "                if(x_ < 0){\n",
    "                    // apply mirror folding\n",
    "                    x_ = -x_ - 1;\n",
    "                }if(x_ >= plate.nx){\n",
    "                    // apply mirror folding\n",
    "                    x_ = plate.nx - 1 - (x_ % plate.nx);\n",
    "                }\n",
    "                // perform erosion (calculate new minimum value)\n",
    "                a = plate_img.getPixel(x_, y_);\n",
    "            }\n",
    "        }\n",
    "        */\n",
    "    }\n",
    "}\n",
    "var t1 = new Date();\n",
    "for(var i=0; i<plate.length; i++){\n",
    "    for(var j=0; j<plate[i].length; j++){\n",
    "        // loop through every pixel of the neighbourhood\n",
    "        for(var k = 0; k < 11; k++){\n",
    "            for(var l = 0; l < 11; l++){\n",
    "                var y_ = i - parseInt(11/2) + k;\n",
    "                var x_ = j - parseInt(11/2) + l;\n",
    "                // Apply boundary conditions\n",
    "                if(y_ < 0){\n",
    "                    // apply mirror folding\n",
    "                    y_ = -y_ - 1;\n",
    "                }\n",
    "                if(y_ >= plate.length){\n",
    "                    // apply mirror folding\n",
    "                    y_ = plate.length - 1 - (y_ % plate.length);\n",
    "                }\n",
    "                if(x_ < 0){\n",
    "                    // apply mirror folding\n",
    "                    x_ = -x_ - 1;\n",
    "                }if(x_ >= plate[i].length){\n",
    "                    // apply mirror folding\n",
    "                    x_ = plate[i].length - 1 - (x_ % plate[i].length);\n",
    "                }\n",
    "                // perform erosion (calculate new minimum value)\n",
    "                a = plate[y_][x_];\n",
    "            }\n",
    "        }\n",
    "    }\n",
    "}\n",
    "var end = new Date();\n",
    "console.log(end - t1, t1 - start)"
   ]
  },
  {
   "cell_type": "code",
   "execution_count": 13,
   "metadata": {
    "ExecuteTime": {
     "end_time": "2021-03-17T14:34:36.857819Z",
     "start_time": "2021-03-17T14:34:36.055Z"
    },
    "kernel": "SoS"
   },
   "outputs": [
    {
     "data": {
      "application/vnd.jupyter.widget-view+json": {
       "model_id": "6b4f65d0523245f4bf5dc63efb0dfa08",
       "version_major": 2,
       "version_minor": 0
      },
      "text/plain": [
       "HBox(children=(Output(layout=Layout(width='80%')), Output(), Output(layout=Layout(width='25%'))))"
      ]
     },
     "metadata": {},
     "output_type": "display_data"
    },
    {
     "data": {
      "application/vnd.jupyter.widget-view+json": {
       "model_id": "1302167d790541be9d8661ca17a969ec",
       "version_major": 2,
       "version_minor": 0
      },
      "text/plain": [
       "Button(description='Show Widgets', style=ButtonStyle())"
      ]
     },
     "metadata": {},
     "output_type": "display_data"
    }
   ],
   "source": [
    "%use sos\n",
    "np.testing.assert_array_equal(plate_eroded, plate_eroded_raw)\n",
    "plt.close('all')\n",
    "view = viewer([plate, np.array(plate_eroded), np.array(plate_eroded_raw), np.array(plate_eroded) - np.array(plate_eroded_raw)], subplots=(2,2))"
   ]
  },
  {
   "cell_type": "code",
   "execution_count": 60,
   "metadata": {
    "ExecuteTime": {
     "end_time": "2021-03-17T15:51:56.582976Z",
     "start_time": "2021-03-17T15:51:56.562Z"
    },
    "kernel": "SoS"
   },
   "outputs": [],
   "source": [
    "%use sos\n",
    "\n",
    "vis_test = np.random.randint(0, 255, size=(5, 10))"
   ]
  },
  {
   "cell_type": "code",
   "execution_count": 69,
   "metadata": {
    "ExecuteTime": {
     "end_time": "2021-03-17T16:04:41.399328Z",
     "start_time": "2021-03-17T16:04:41.326Z"
    },
    "kernel": "JavaScript"
   },
   "outputs": [
    {
     "name": "stdout",
     "output_type": "stream",
     "text": [
      "[\n",
      "  [ 0, 0, 0, 0, 0, 5.3863724772837, 0, 0, 0, 0, 0 ],\n",
      "  [ 0, 0, 0, 0, 0, 5.3863724772837, 0, 0, 0, 0, 0 ],\n",
      "  [ 255, 255, 255, 255, 255, 5.3863724772837, 255, 255, 255, 255, 255 ],\n",
      "  [ 0, 0, 0, 0, 0, 5.3863724772837, 0, 0, 0, 0, 0 ],\n",
      "  [ 0, 0, 0, 0, 0, 5.3863724772837, 0, 0, 0, 0, 0 ]\n",
      "]\n",
      "[[   0.000   0.000   0.000   0.000   0.000   5.386   0.000   0.000   0.000   0.000   0.000 ]\n",
      " [   0.000   0.000   0.000   0.000   0.000   5.386   0.000   0.000   0.000   0.000   0.000 ]\n",
      " [ 255.000 255.000 255.000 255.000 255.000   5.386 255.000 255.000 255.000 255.000 255.000 ]\n",
      " [   0.000   0.000   0.000   0.000   0.000   5.386   0.000   0.000   0.000   0.000   0.000 ]\n",
      " [   0.000   0.000   0.000   0.000   0.000   5.386   0.000   0.000   0.000   0.000   0.000 ]]\n",
      "\n"
     ]
    }
   ],
   "source": [
    "%use javascript\n",
    "%get vis_test\n",
    "\n",
    "var vis_test_img = new Image(5, 11);\n",
    "var row = new Image(1, 11, {'init_value':255});\n",
    "var col = new Image(5, 1, {'init_value':5.3863724772837});\n",
    "vis_test_img.putRow(2, row);\n",
    "vis_test_img.putColumn(5, col);\n",
    "console.log(vis_test_img.image);\n",
    "console.log(vis_test_img.visualize());"
   ]
  },
  {
   "cell_type": "code",
   "execution_count": null,
   "metadata": {
    "kernel": "JavaScript"
   },
   "outputs": [],
   "source": []
  }
 ],
 "metadata": {
  "kernelspec": {
   "display_name": "SoS",
   "language": "sos",
   "name": "sos"
  },
  "language_info": {
   "codemirror_mode": "sos",
   "file_extension": ".sos",
   "mimetype": "text/x-sos",
   "name": "sos",
   "nbconvert_exporter": "sos_notebook.converter.SoS_Exporter",
   "pygments_lexer": "sos"
  },
  "sos": {
   "kernels": [
    [
     "JavaScript",
     "javascript",
     "JavaScript",
     "#c8e1ae",
     ""
    ],
    [
     "SoS",
     "sos",
     "",
     "",
     "sos"
    ]
   ],
   "panel": {
    "displayed": false,
    "height": 0
   },
   "version": "0.21.9"
  }
 },
 "nbformat": 4,
 "nbformat_minor": 4
}
