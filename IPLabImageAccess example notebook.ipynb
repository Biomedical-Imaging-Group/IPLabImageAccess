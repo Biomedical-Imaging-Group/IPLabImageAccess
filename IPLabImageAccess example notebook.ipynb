{
 "cells": [
  {
   "cell_type": "markdown",
   "metadata": {},
   "source": [
    "# IPLabImageAccess example notebook\n",
    "\n",
    "This notebook serves as a reference on how the `IPLabImageAccess` class can be used to create and modify images in JavaScript. It only shows the basic functions and their default behavior, so check out the [documentation](https://github.com/Biomedical-Imaging-Group/IPLabImageAccess/wiki) to get more information on the available functions and their input parameters.\n",
    "\n",
    "First let's import the class as `const Image` as recommended."
   ]
  },
  {
   "cell_type": "code",
   "execution_count": 1,
   "metadata": {},
   "outputs": [],
   "source": [
    "const Image = require('./IPLabImageAccess.js');"
   ]
  },
  {
   "cell_type": "markdown",
   "metadata": {},
   "source": [
    "## Creating new images\n",
    "New images can be created by specifying the height and width of the image, as well as the initial value of the pixels"
   ]
  },
  {
   "cell_type": "code",
   "execution_count": 2,
   "metadata": {},
   "outputs": [
    {
     "name": "stdout",
     "output_type": "stream",
     "text": [
      "5x5 image initialized to 0:\n",
      "\n",
      " [\n",
      "  [ 0, 0, 0, 0, 0 ],\n",
      "  [ 0, 0, 0, 0, 0 ],\n",
      "  [ 0, 0, 0, 0, 0 ],\n",
      "  [ 0, 0, 0, 0, 0 ],\n",
      "  [ 0, 0, 0, 0, 0 ]\n",
      "]\n",
      "\n",
      "5x5 image initialized to 65:\n",
      "\n",
      " [\n",
      "  [ 65, 65, 65, 65, 65 ],\n",
      "  [ 65, 65, 65, 65, 65 ],\n",
      "  [ 65, 65, 65, 65, 65 ],\n",
      "  [ 65, 65, 65, 65, 65 ],\n",
      "  [ 65, 65, 65, 65, 65 ]\n",
      "]\n",
      "\n",
      "5x5 color image initialized to 3:\n",
      "\n",
      " [\n",
      "  [ [ 3, 3, 3 ], [ 3, 3, 3 ], [ 3, 3, 3 ], [ 3, 3, 3 ], [ 3, 3, 3 ] ],\n",
      "  [ [ 3, 3, 3 ], [ 3, 3, 3 ], [ 3, 3, 3 ], [ 3, 3, 3 ], [ 3, 3, 3 ] ],\n",
      "  [ [ 3, 3, 3 ], [ 3, 3, 3 ], [ 3, 3, 3 ], [ 3, 3, 3 ], [ 3, 3, 3 ] ],\n",
      "  [ [ 3, 3, 3 ], [ 3, 3, 3 ], [ 3, 3, 3 ], [ 3, 3, 3 ], [ 3, 3, 3 ] ],\n",
      "  [ [ 3, 3, 3 ], [ 3, 3, 3 ], [ 3, 3, 3 ], [ 3, 3, 3 ], [ 3, 3, 3 ] ]\n",
      "]\n"
     ]
    }
   ],
   "source": [
    "// create a 5 by 5 image initialized to 0\n",
    "var img = new Image(5,5);\n",
    "// .toArray() is used to convert the image to a javascript array, which makes it easier to print the image\n",
    "console.log('5x5 image initialized to 0:\\n\\n', img.toArray());\n",
    "\n",
    "// create a 5 by 5 image initialized to 65\n",
    "var img = new Image(5,5, {init_value:65});\n",
    "console.log('\\n5x5 image initialized to 65:\\n\\n', img.toArray());\n",
    "\n",
    "// create a 5 by 5 color image initialized to 3\n",
    "var img = new Image(5,5, {init_value:3, rgb:true});\n",
    "console.log('\\n5x5 color image initialized to 3:\\n\\n', img.toArray());"
   ]
  },
  {
   "cell_type": "markdown",
   "metadata": {},
   "source": [
    "## Creating images from JavaScript arrays\n",
    "An image can also be created from an existing JavaScript array by passing it to the constructor."
   ]
  },
  {
   "cell_type": "code",
   "execution_count": 3,
   "metadata": {},
   "outputs": [
    {
     "name": "stdout",
     "output_type": "stream",
     "text": [
      "IPLabImageAccess {\n",
      "  image: [\n",
      "    [ 185, 106, 250, 161, 248 ],\n",
      "    [ 69, 54, 246, 202, 178 ],\n",
      "    [ 190, 205, 24, 74, 76 ],\n",
      "    [ 127, 105, 149, 202, 186 ],\n",
      "    [ 116, 28, 62, 225, 18 ]\n",
      "  ],\n",
      "  nx: 5,\n",
      "  ny: 5\n",
      "}\n"
     ]
    }
   ],
   "source": [
    "// initialize a 5x5 array filled with random integers in [0,255]\n",
    "var rand_arr = new Array(5);\n",
    "for(var i=0; i < 5; i++){\n",
    "    rand_arr[i] = new Array(5);\n",
    "    for(var j=0; j < 5; j++){\n",
    "        rand_arr[i][j] = parseInt(Math.random() * 255);\n",
    "    }\n",
    "}\n",
    "\n",
    "// create a new image from this array\n",
    "var img = new Image(rand_arr);\n",
    "console.log(img);"
   ]
  },
  {
   "cell_type": "markdown",
   "metadata": {},
   "source": [
    "## Accessing single pixels of an image\n",
    "To access single pixels, the [`setPixel`](https://github.com/Biomedical-Imaging-Group/IPLabImageAccess/wiki#-setpixel) and [`getPixel`](https://github.com/Biomedical-Imaging-Group/IPLabImageAccess/wiki#getPixel) methods can be used."
   ]
  },
  {
   "cell_type": "code",
   "execution_count": 4,
   "metadata": {},
   "outputs": [
    {
     "name": "stdout",
     "output_type": "stream",
     "text": [
      "The pixel at (x=2, y=3) has value 149\n",
      "\n",
      "Now this pixel has value 0:\n",
      "\n",
      " [\n",
      "  [ 185, 106, 250, 161, 248 ],\n",
      "  [ 69, 54, 246, 202, 178 ],\n",
      "  [ 190, 205, 24, 74, 76 ],\n",
      "  [ 127, 105, 0, 202, 186 ],\n",
      "  [ 116, 28, 62, 225, 18 ]\n",
      "]\n"
     ]
    }
   ],
   "source": [
    "// retrieve the pixel at (x=2, y=3) of the image defined in the previous cell\n",
    "var value = img.getPixel(2, 3);\n",
    "console.log('The pixel at (x=2, y=3) has value ' + value);\n",
    "\n",
    "// set the pixel at (x=2, y=3) to 0\n",
    "img.setPixel(2, 3, 0);\n",
    "console.log('\\nNow this pixel has value 0:\\n\\n', img.toArray());"
   ]
  },
  {
   "cell_type": "markdown",
   "metadata": {},
   "source": [
    "## Accessing rows and columns of an image\n",
    "To extract a row or a column, the [`getRow`](https://github.com/Biomedical-Imaging-Group/IPLabImageAccess/wiki#-getrow) and [`getColumn`](https://github.com/Biomedical-Imaging-Group/IPLabImageAccess/wiki#-getcolumn) methods can be used. These methods return the row or column as another `IPLabImageAccess` object that only contains one row."
   ]
  },
  {
   "cell_type": "code",
   "execution_count": 5,
   "metadata": {},
   "outputs": [
    {
     "name": "stdout",
     "output_type": "stream",
     "text": [
      "The second column:  IPLabImageAccess { image: [ [ 106, 54, 205, 105, 28 ] ], nx: 5, ny: 1 }\n",
      "\n",
      "The third row:  IPLabImageAccess { image: [ [ 190, 205, 24, 74, 76 ] ], nx: 5, ny: 1 }\n"
     ]
    }
   ],
   "source": [
    "// extract the 2nd column (index 1) of the image\n",
    "var column_1 = img.getColumn(1);\n",
    "console.log('The second column: ', column_1);\n",
    "\n",
    "// extract the 3rd row (index 2) of the image\n",
    "var row_2 = img.getRow(2);\n",
    "console.log('\\nThe third row: ', row_2);"
   ]
  },
  {
   "cell_type": "markdown",
   "metadata": {},
   "source": [
    "To insert a row or a column, the [`putRow`](https://github.com/Biomedical-Imaging-Group/IPLabImageAccess/wiki#-putrow) and [`putColumn`](https://github.com/Biomedical-Imaging-Group/IPLabImageAccess/wiki#-putcolumn) methods can be used. The row/column passed to these methods should be an `IPLabImageAccess` object containing only one row or column."
   ]
  },
  {
   "cell_type": "code",
   "execution_count": 6,
   "metadata": {},
   "outputs": [
    {
     "name": "stdout",
     "output_type": "stream",
     "text": [
      "The image after exchanging the extracted row and column: \n",
      " IPLabImageAccess {\n",
      "  image: [\n",
      "    [ 185, 190, 250, 161, 248 ],\n",
      "    [ 69, 205, 246, 202, 178 ],\n",
      "    [ 106, 54, 205, 105, 28 ],\n",
      "    [ 127, 74, 0, 202, 186 ],\n",
      "    [ 116, 76, 62, 225, 18 ]\n",
      "  ],\n",
      "  nx: 5,\n",
      "  ny: 5\n",
      "}\n"
     ]
    }
   ],
   "source": [
    "// insert the 3rd row into the 2nd column\n",
    "img.putColumn(1, row_2);\n",
    "// insert the 2nd column into the 3rd row\n",
    "img.putRow(2, column_1);\n",
    "console.log('The image after exchanging the extracted row and column: \\n', img);"
   ]
  },
  {
   "cell_type": "markdown",
   "metadata": {},
   "source": [
    "## Accessing neighborhood / sub-image\n",
    "The neighborhood around a pixel can be extracted using the [`getNbh`](https://github.com/Biomedical-Imaging-Group/IPLabImageAccess/wiki#-getnbh) method, which returns another `IPLabImageAccess` object. The specified location (origin) is in the center of the extracted neighborhood. By default, as for all methods, a mirror-padding is applied when accessing pixels outside of the image."
   ]
  },
  {
   "cell_type": "code",
   "execution_count": 7,
   "metadata": {},
   "outputs": [
    {
     "name": "stdout",
     "output_type": "stream",
     "text": [
      "IPLabImageAccess {\n",
      "  image: [\n",
      "    [ 246, 202, 178, 178, 202 ],\n",
      "    [ 205, 105, 28, 28, 105 ],\n",
      "    [ 0, 202, 186, 186, 202 ]\n",
      "  ],\n",
      "  nx: 5,\n",
      "  ny: 3\n",
      "}\n"
     ]
    }
   ],
   "source": [
    "// extract the 3x5 neighborhood around position (x=4, y=2)\n",
    "var nbh = img.getNbh(4, 2, 5, 3);\n",
    "console.log(nbh);"
   ]
  },
  {
   "cell_type": "markdown",
   "metadata": {},
   "source": [
    "A sub-image can be inserted into an existing image with the [`putSubImage`](https://github.com/Biomedical-Imaging-Group/IPLabImageAccess/wiki#-putsubimage) method. The specified location (origin) is in the top-left corder of the sub-image."
   ]
  },
  {
   "cell_type": "code",
   "execution_count": 8,
   "metadata": {},
   "outputs": [
    {
     "name": "stdout",
     "output_type": "stream",
     "text": [
      "IPLabImageAccess {\n",
      "  image: [\n",
      "    [ 185, 190, 250, 161, 248 ],\n",
      "    [ 246, 202, 178, 178, 202 ],\n",
      "    [ 205, 105, 28, 28, 105 ],\n",
      "    [ 0, 202, 186, 186, 202 ],\n",
      "    [ 116, 76, 62, 225, 18 ]\n",
      "  ],\n",
      "  nx: 5,\n",
      "  ny: 5\n",
      "}\n"
     ]
    }
   ],
   "source": [
    "// insert the extracted neighborhood at position (x=0, y=1)\n",
    "img.putSubImage(0, 1, nbh);\n",
    "console.log(img);"
   ]
  },
  {
   "cell_type": "markdown",
   "metadata": {},
   "source": [
    "## Retrieving image properties"
   ]
  },
  {
   "cell_type": "code",
   "execution_count": 9,
   "metadata": {},
   "outputs": [
    {
     "name": "stdout",
     "output_type": "stream",
     "text": [
      "The shape of the image:  [ 5, 5 ]\n",
      "The width of the image:  5\n",
      "The width of the image:  5\n",
      "The number of dimensions of the image:  2\n",
      "The minimum value of the image:  0\n",
      "The maximum value of the image:  250\n"
     ]
    }
   ],
   "source": [
    "// get the size (shape) of the image\n",
    "console.log('The shape of the image: ', img.shape());\n",
    "// the width\n",
    "console.log('The width of the image: ', img.nx);\n",
    "// the height\n",
    "console.log('The width of the image: ', img.ny);\n",
    "// the number of dimensions\n",
    "console.log('The number of dimensions of the image: ', img.ndims());\n",
    "// the minimum value\n",
    "console.log('The minimum value of the image: ', img.getMin());\n",
    "// the maximum value\n",
    "console.log('The maximum value of the image: ', img.getMax());"
   ]
  }
 ],
 "metadata": {
  "kernelspec": {
   "display_name": "Javascript (Node.js)",
   "language": "javascript",
   "name": "javascript"
  },
  "language_info": {
   "file_extension": ".js",
   "mimetype": "application/javascript",
   "name": "javascript",
   "version": "12.18.1"
  }
 },
 "nbformat": 4,
 "nbformat_minor": 2
}
